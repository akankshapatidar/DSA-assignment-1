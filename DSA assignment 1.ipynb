{
 "cells": [
  {
   "cell_type": "code",
   "execution_count": 42,
   "id": "ed4d1191",
   "metadata": {},
   "outputs": [
    {
     "data": {
      "text/plain": [
       "[(1, 9), (2, 8), (3, 7), (4, 6)]"
      ]
     },
     "execution_count": 42,
     "metadata": {},
     "output_type": "execute_result"
    }
   ],
   "source": [
    "#Q1. Write a program to find all pairs of an integer array whose sum is equal to a given number?\n",
    "\n",
    "\n",
    "\n",
    "def pairOfSum(arr,sum):\n",
    "    result = []\n",
    "\n",
    "    while arr:  \n",
    "        last = arr.pop()\n",
    "        diff = sum - last\n",
    "\n",
    "        if diff in arr:\n",
    "            result.append((diff,last))\n",
    "    return result\n",
    "\n",
    "array = [1,2,3,4,5,6,7,8,9,10]\n",
    "sum = 10\n",
    "pairOfSum(array,sum)"
   ]
  },
  {
   "cell_type": "code",
   "execution_count": 43,
   "id": "1a34aac2",
   "metadata": {},
   "outputs": [
    {
     "name": "stdout",
     "output_type": "stream",
     "text": [
      "Array before: [10, 2, 5, 4, 7, 3, 9, 1, 6]\n",
      "Array after: [6, 1, 9, 3, 7, 4, 5, 2, 10]\n"
     ]
    }
   ],
   "source": [
    "#Q2. Write a program to reverse an array in place? In place means you cannot create a new array. \n",
    "#You have to update the original array.\n",
    "\n",
    "\n",
    "\n",
    "array = [10,2,5,4,7,3,9,1,6]\n",
    "print(f\"Array before: {array}\")\n",
    "\n",
    "def arrayInPlace(arr):\n",
    "    for i in range(len(arr)):\n",
    "        for j in range(i+1, len(arr)):\n",
    "            arr[i],arr[j] = arr[j],arr[i]\n",
    "    return arr\n",
    "\n",
    "arrayAfter = arrayInPlace(array)\n",
    "print(f\"Array after: {arrayAfter}\")\n",
    "\n"
   ]
  },
  {
   "cell_type": "code",
   "execution_count": 44,
   "id": "a2827a87",
   "metadata": {},
   "outputs": [
    {
     "name": "stdout",
     "output_type": "stream",
     "text": [
      "xyztuvw is rotation of tuvwxyz\n"
     ]
    }
   ],
   "source": [
    "#Q3. Write a program to check if two strings are a rotation of each other?\n",
    "\n",
    "\n",
    "\n",
    "string1 = \"tuvwxyz\"\n",
    "string2 = \"xyztuvw\"\n",
    "\n",
    "if len(string1) == len(string2):\n",
    "    if string2 in (string1 + string1):\n",
    "        print(f\"{string2} is rotation of {string1}\")\n",
    "else:\n",
    "    print(f\"{string2} is not a rotation of {string1}\")"
   ]
  },
  {
   "cell_type": "code",
   "execution_count": 45,
   "id": "44a61792",
   "metadata": {},
   "outputs": [
    {
     "name": "stdout",
     "output_type": "stream",
     "text": [
      "k\n",
      "m\n"
     ]
    }
   ],
   "source": [
    "# Q4. Write a program to print the first non-repeated character from a string?\n",
    "\n",
    "\n",
    "\n",
    "def first_nonrepeated(string):\n",
    "    frequency = {}\n",
    "    for char in string:\n",
    "        if char in frequency:\n",
    "            frequency[char] += 1\n",
    "        else:\n",
    "            frequency[char] = 1\n",
    "    for char in string:\n",
    "        if frequency[char] == 1:\n",
    "            return char\n",
    "    \n",
    "\n",
    "print(first_nonrepeated(\"aakaan\"))  \n",
    "print(first_nonrepeated(\"kkrrdddiimsdjnd\"))\n"
   ]
  },
  {
   "cell_type": "code",
   "execution_count": 46,
   "id": "7a184e7a",
   "metadata": {},
   "outputs": [
    {
     "name": "stdout",
     "output_type": "stream",
     "text": [
      "Move disk 1 from A to C\n",
      "Move disk 2 from A to B\n",
      "Move disk 1 from C to B\n",
      "Move disk 3 from A to C\n",
      "Move disk 1 from B to A\n",
      "Move disk 2 from B to C\n",
      "Move disk 1 from A to C\n"
     ]
    }
   ],
   "source": [
    "# Q5. Read about the Tower of Hanoi algorithm. Write a program to implement it.\n",
    "# This can be done with resursive approach\n",
    "\n",
    "\n",
    "\n",
    "\n",
    "def towerofHanoi(n,s1,s2,s3):\n",
    "        if n == 1:\n",
    "            print(f\"Move disk {n} from {s1} to {s3}\")\n",
    "            return\n",
    "        towerofHanoi(n-1, s1, s3, s2)\n",
    "        print(f\"Move disk {n} from {s1} to {s3}\")\n",
    "        towerofHanoi(n-1, s2, s1, s3)\n",
    "\n",
    "disk = 3\n",
    "towerofHanoi(disk, \"A\",\"B\",\"C\")"
   ]
  },
  {
   "cell_type": "code",
   "execution_count": 47,
   "id": "a28f5042",
   "metadata": {},
   "outputs": [
    {
     "name": "stdout",
     "output_type": "stream",
     "text": [
      "+-a***/bcdfeg\n"
     ]
    }
   ],
   "source": [
    "# Q6. Read about infix, prefix, and postfix expressions.\n",
    "# Write a program to convert postfix to prefix expression.\n",
    "\n",
    "\n",
    "\n",
    "\n",
    "def conversion_postfix_to_prefix(expression):\n",
    "    stack = []\n",
    "\n",
    "    for i in expression:\n",
    "      \n",
    "        if i in ['+', '-', '*', '/']:\n",
    "            operand2 = stack.pop()\n",
    "            operand1 = stack.pop()\n",
    "            \n",
    "            result = i + operand1 + operand2\n",
    "            stack.append(result)\n",
    "            \n",
    "        else:\n",
    "            stack.append(i)\n",
    "\n",
    "    return stack[0]\n",
    "\n",
    "\n",
    "print(conversion_postfix_to_prefix(\"abc/d*f*e*-g+\"))\n",
    "\n"
   ]
  },
  {
   "cell_type": "code",
   "execution_count": 48,
   "id": "9d92d361",
   "metadata": {},
   "outputs": [
    {
     "data": {
      "text/plain": [
       "'a-b/c*d*f*e+g'"
      ]
     },
     "execution_count": 48,
     "metadata": {},
     "output_type": "execute_result"
    }
   ],
   "source": [
    "# Q7. Write a program to convert prefix expression to infix expression.\n",
    "\n",
    "def convert_prefix_to_Infix(expression):\n",
    "    stack = []\n",
    "   \n",
    "    exp = expression[::-1]\n",
    "\n",
    "    for char in exp:\n",
    "        if char in [\"+\", \"-\", \"*\", \"/\"]:\n",
    "            operand1 = stack.pop()\n",
    "            operand2 = stack.pop()\n",
    "            result = operand1 + char + operand2\n",
    "            stack.append(result)\n",
    "            \n",
    "        else:\n",
    "            stack.append(char)\n",
    "\n",
    "    return result\n",
    "\n",
    "convert_prefix_to_Infix(\"+-a***/bcdfeg\")"
   ]
  },
  {
   "cell_type": "code",
   "execution_count": 49,
   "id": "945ddd64",
   "metadata": {},
   "outputs": [
    {
     "name": "stdout",
     "output_type": "stream",
     "text": [
      "True\n",
      "False\n",
      "True\n"
     ]
    }
   ],
   "source": [
    "# Q8. Write a program to check if all the brackets are closed in a given code snippet.\n",
    "\n",
    "\n",
    "\n",
    "def checkBrackets(snippet):\n",
    "\n",
    "    stack = []\n",
    "    closingBracketsData = {'[': ']', '(': ')', '{': '}'}\n",
    "\n",
    "    for char in snippet:\n",
    "      \n",
    "        if char in closingBracketsData:\n",
    "            stack.append(char)  \n",
    "\n",
    "        elif char in closingBracketsData.values():\n",
    "            if not stack:\n",
    "                return False\n",
    "            elif closingBracketsData[stack[-1]] != char:\n",
    "                return False\n",
    "            else:\n",
    "                stack.pop()\n",
    "    \n",
    "    return not stack\n",
    "\n",
    "\n",
    "print(checkBrackets(\"[({(({[()]}))})]\")) \n",
    "print(checkBrackets(\"[{[(]{()})}]\")) \n",
    "print(checkBrackets(\"([{[((([{()}])))]}])\"))\n"
   ]
  },
  {
   "cell_type": "code",
   "execution_count": 50,
   "id": "c7e75658",
   "metadata": {},
   "outputs": [
    {
     "name": "stdout",
     "output_type": "stream",
     "text": [
      "[80, 100, 120, 140]\n",
      "[140, 120, 100, 80]\n"
     ]
    }
   ],
   "source": [
    "# Q9. Write a program to reverse a stack.\n",
    "\n",
    "\n",
    "class Stack:\n",
    "    def __init__(self):\n",
    "        self.data = []\n",
    "\n",
    "    def push(self,element):\n",
    "        return self.data.append(element)\n",
    "\n",
    "    def pop(self):\n",
    "        if len(self.data) > 0:\n",
    "            return self.data.pop()\n",
    "        else:\n",
    "            print(\"Stack is empty\")\n",
    "    \n",
    "    def isEmpty(self):\n",
    "        return self.data == []\n",
    "\n",
    "    def show(self):\n",
    "        for val in self.data:\n",
    "            print(val, end = \" \")\n",
    "\n",
    "\n",
    "\n",
    "def reverse_stack(stack):\n",
    "  \n",
    "    tempStack = Stack()\n",
    "    while not stack.isEmpty():\n",
    "        tempStack.push(stack.pop())\n",
    "\n",
    "    return tempStack\n",
    "\n",
    "stack = Stack()\n",
    "stack.push(80)\n",
    "stack.push(100)\n",
    "stack.push(120)\n",
    "stack.push(140)\n",
    "\n",
    "print(stack.data) # should print [10, 30, 60, 90]\n",
    "\n",
    "reversed_stack = reverse_stack(stack)\n",
    "\n",
    "print(reversed_stack.data) # should print [90, 60, 30, 10]"
   ]
  },
  {
   "cell_type": "code",
   "execution_count": 52,
   "id": "0528fea8",
   "metadata": {},
   "outputs": [
    {
     "name": "stdout",
     "output_type": "stream",
     "text": [
      "The smallest number from the stack is -9\n",
      "The smallest number from the stack is -34\n"
     ]
    }
   ],
   "source": [
    "# Q10. Write a program to find the smallest number using a stack.\n",
    "\n",
    "\n",
    "\n",
    "class Stack:\n",
    "    def __init__(self):\n",
    "        self.data = []\n",
    "\n",
    "    def push(self,element):\n",
    "        return self.data.append(element)\n",
    "\n",
    "    def pop(self):\n",
    "        if len(self.data) > 0:\n",
    "            return self.data.pop()\n",
    "        else:\n",
    "            print(\"Stack is empty\")\n",
    "    \n",
    "    def isEmpty(self):\n",
    "        return self.data == []\n",
    "\n",
    "    def show(self):\n",
    "        for val in self.data:\n",
    "            print(val, end = \" \")\n",
    "            \n",
    "            \n",
    "def smallest(numbers):\n",
    "    stack = Stack() \n",
    "    for num in numbers:\n",
    "        stack.push(num)\n",
    "\n",
    "    smallest_val = stack.pop()\n",
    "\n",
    "    while not stack.isEmpty():\n",
    "        val = stack.pop()\n",
    "        if val < smallest_val:\n",
    "            smallest_val = val\n",
    "\n",
    "    return f\"The smallest number from the stack is {smallest_val}\"\n",
    "\n",
    "\n",
    "numbers = [0,-1,2,5,-7,9,10,4,-9]\n",
    "print(smallest(numbers))\n",
    "\n",
    "num = (-5,2,4,20,-34,9,0,-13,49)\n",
    "print(smallest(num))"
   ]
  }
 ],
 "metadata": {
  "kernelspec": {
   "display_name": "Python 3 (ipykernel)",
   "language": "python",
   "name": "python3"
  },
  "language_info": {
   "codemirror_mode": {
    "name": "ipython",
    "version": 3
   },
   "file_extension": ".py",
   "mimetype": "text/x-python",
   "name": "python",
   "nbconvert_exporter": "python",
   "pygments_lexer": "ipython3",
   "version": "3.9.12"
  }
 },
 "nbformat": 4,
 "nbformat_minor": 5
}
